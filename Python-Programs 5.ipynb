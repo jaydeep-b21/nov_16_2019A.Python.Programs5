{
 "cells": [
  {
   "cell_type": "code",
   "execution_count": null,
   "metadata": {},
   "outputs": [],
   "source": [
    "Python-Programs"
   ]
  },
  {
   "cell_type": "code",
   "execution_count": null,
   "metadata": {},
   "outputs": [],
   "source": [
    "C => DATA STRUCTURES - 1"
   ]
  },
  {
   "cell_type": "code",
   "execution_count": null,
   "metadata": {},
   "outputs": [],
   "source": [
    "Array"
   ]
  },
  {
   "cell_type": "code",
   "execution_count": null,
   "metadata": {},
   "outputs": [],
   "source": [
    "(1) example of how an array can be implemened using Python"
   ]
  },
  {
   "cell_type": "code",
   "execution_count": 1,
   "metadata": {},
   "outputs": [
    {
     "name": "stdout",
     "output_type": "stream",
     "text": [
      "[1, None, None, None, None] 1\n",
      "[3, 1, None, None, None] 2\n",
      "[3, 1, 4, None, None] 3\n",
      "[3, 1, 5, 4, None] 4\n",
      "[3, 1, None, 4, None] 3\n",
      "Element 4 found at position 3\n"
     ]
    }
   ],
   "source": [
    "class Array(object):\n",
    "    def __init__(self, size, defaultValue = None):\n",
    "        '''\n",
    "            size: indicates the static size of the Array\n",
    "            defaultValue indicates the default value that Array takes while creation, you can also\n",
    "            pass preinitialized list to set the values of the array elements\n",
    "        '''\n",
    "        self.size = size\n",
    "        # If only array size is initialized then, initialize all the elements as None type\n",
    "        if(defaultValue == None):\n",
    "            self.items = list()\n",
    "            for i in range(size):\n",
    "                self.items.append(defaultValue)\n",
    "        else:\n",
    "            # If user has given the default values for the array\n",
    "            self.items = list()\n",
    "\n",
    "            if(len(defaultValue) == size or len(defaultValue) < size):\n",
    "                for j in range(len(defaultValue)):\n",
    "                    if(defaultValue[j]):\n",
    "                        self.items.append(defaultValue[j])\n",
    "                for i in range(len(defaultValue), size):\n",
    "                    self.items.append(None)\n",
    "            else:\n",
    "                print('Elements are more than the size specified')\n",
    "\n",
    "    def myLen(self):\n",
    "        ''' This function returns the length of the Array (Only initialised number of elements)'''\n",
    "        length = 0\n",
    "        for i in self.items:\n",
    "            if i == None:\n",
    "                continue\n",
    "            else:\n",
    "                length += 1\n",
    "        return length\n",
    "\n",
    "    def insertFirst(self, element):\n",
    "        ''' This function adds the element to the beginning of the array '''\n",
    "        if (self.myLen() < self.size):\n",
    "            for i in range(self.myLen(), 0, -1):\n",
    "                self.items[i] = self.items[i - 1]\n",
    "            self.items[0] = element\n",
    "        else:\n",
    "            print('Element index out of range')\n",
    "\n",
    "    def insertAtIndex(self, index, element):\n",
    "        ''' This function adds the element to the beginning of the array '''\n",
    "        if (self.myLen() < self.size):\n",
    "            for i in range(self.myLen(), index, -1):\n",
    "                self.items[i] = self.items[i - 1]\n",
    "            self.items[index] = element\n",
    "        else:\n",
    "            print('Element index out of range')\n",
    "\n",
    "    def insertAfterIndex(self, index, element):\n",
    "        ''' This function adds the element to the beginning of the array '''\n",
    "        if (self.myLen() < self.size):\n",
    "            for i in range(self.myLen(), index + 1, -1):\n",
    "                self.items[i] = self.items[i - 1]\n",
    "            self.items[index + 1] = element\n",
    "        else:\n",
    "            print('Element index out of range')\n",
    "\n",
    "    def insertBeforeIndex(self, index, element):\n",
    "        ''' This function adds the element to the beginning of the array '''\n",
    "        if (self.myLen() < self.size):\n",
    "            for i in range(self.myLen(), index - 1, -1):\n",
    "                self.items[i] = self.items[i - 1]\n",
    "            self.items[index - 1] = element\n",
    "        else:\n",
    "            print('Element index out of range')\n",
    "\n",
    "    def delete(self, element):\n",
    "        if element in self.items:\n",
    "            Index = self.items.index(element)\n",
    "            self.items[Index] = None\n",
    "        else:\n",
    "            print('This element is not in the Array!')\n",
    "\n",
    "    def search(self, element):\n",
    "        if element in self.items:\n",
    "            position = 0\n",
    "            for i in range(self.myLen()):\n",
    "                if(self.items[i] == element):\n",
    "                    break\n",
    "                else:\n",
    "                    position += 1\n",
    "\n",
    "            print('Element {} found at position {}'.format(element, position))\n",
    "        else:\n",
    "            print('This element is not in the Array!')\n",
    "\n",
    "if __name__ == '__main__':\n",
    "    myArray = Array(5, [1])\n",
    "    print(myArray.items, myArray.myLen())       # [1, None, None, None, None] 1\n",
    "    myArray.insertFirst(3)\n",
    "    print(myArray.items, myArray.myLen())       # [3, 1, None, None, None] 2\n",
    "    myArray.insertAfterIndex(1,4)\n",
    "    print(myArray.items, myArray.myLen())       # [3, 1, 4, None, None] 3\n",
    "    myArray.insertBeforeIndex(3,5)\n",
    "    print(myArray.items, myArray.myLen())       # [3, 1, 5, 4, None] 4\n",
    "    myArray.delete(5)\n",
    "    print(myArray.items, myArray.myLen())       # [3, 1, None, 4, None] 3\n",
    "    myArray.search(4)                           # Element 4 found at position 3"
   ]
  },
  {
   "cell_type": "code",
   "execution_count": null,
   "metadata": {},
   "outputs": [],
   "source": []
  }
 ],
 "metadata": {
  "kernelspec": {
   "display_name": "Python 3",
   "language": "python",
   "name": "python3"
  },
  "language_info": {
   "codemirror_mode": {
    "name": "ipython",
    "version": 3
   },
   "file_extension": ".py",
   "mimetype": "text/x-python",
   "name": "python",
   "nbconvert_exporter": "python",
   "pygments_lexer": "ipython3",
   "version": "3.7.3"
  }
 },
 "nbformat": 4,
 "nbformat_minor": 2
}
